{
 "cells": [
  {
   "cell_type": "code",
   "execution_count": 1,
   "metadata": {},
   "outputs": [
    {
     "name": "stdout",
     "output_type": "stream",
     "text": [
      "Requirement already satisfied: SupervisedClustering in c:\\users\\fscielzo\\anaconda3\\lib\\site-packages (0.0.2)\n",
      "Collecting SupervisedClustering\n",
      "  Downloading SupervisedClustering-0.0.3-py3-none-any.whl.metadata (673 bytes)\n",
      "Requirement already satisfied: pandas in c:\\users\\fscielzo\\anaconda3\\lib\\site-packages (from SupervisedClustering) (2.0.3)\n",
      "Requirement already satisfied: numpy in c:\\users\\fscielzo\\anaconda3\\lib\\site-packages (from SupervisedClustering) (1.24.3)\n",
      "Requirement already satisfied: python-dateutil>=2.8.2 in c:\\users\\fscielzo\\appdata\\roaming\\python\\python311\\site-packages (from pandas->SupervisedClustering) (2.8.2)\n",
      "Requirement already satisfied: pytz>=2020.1 in c:\\users\\fscielzo\\anaconda3\\lib\\site-packages (from pandas->SupervisedClustering) (2023.3.post1)\n",
      "Requirement already satisfied: tzdata>=2022.1 in c:\\users\\fscielzo\\anaconda3\\lib\\site-packages (from pandas->SupervisedClustering) (2023.3)\n",
      "Requirement already satisfied: six>=1.5 in c:\\users\\fscielzo\\appdata\\roaming\\python\\python311\\site-packages (from python-dateutil>=2.8.2->pandas->SupervisedClustering) (1.16.0)\n",
      "Downloading SupervisedClustering-0.0.3-py3-none-any.whl (6.3 kB)\n",
      "Installing collected packages: SupervisedClustering\n",
      "  Attempting uninstall: SupervisedClustering\n",
      "    Found existing installation: SupervisedClustering 0.0.2\n",
      "    Uninstalling SupervisedClustering-0.0.2:\n",
      "      Successfully uninstalled SupervisedClustering-0.0.2\n",
      "Successfully installed SupervisedClustering-0.0.3\n",
      "Note: you may need to restart the kernel to use updated packages.\n"
     ]
    }
   ],
   "source": [
    "pip install SupervisedClustering --upgrade"
   ]
  },
  {
   "cell_type": "code",
   "execution_count": 6,
   "metadata": {},
   "outputs": [
    {
     "name": "stdout",
     "output_type": "stream",
     "text": [
      "Name: SupervisedClustering\n",
      "Version: 0.0.3\n",
      "Summary: This is a package to apply clustering algorithms in supervised learning problems.\n",
      "Home-page: https://github.com/FabioScielzoOrtiz/SupervisedClustering_Package\n",
      "Author: Fabio Scielzo Ortiz\n",
      "Author-email: fabioscielzo98@gmail.com\n",
      "License: \n",
      "Location: c:\\Users\\fscielzo\\anaconda3\\Lib\\site-packages\n",
      "Requires: numpy, pandas\n",
      "Required-by: \n",
      "Note: you may need to restart the kernel to use updated packages.\n"
     ]
    }
   ],
   "source": [
    "pip show SupervisedClustering"
   ]
  },
  {
   "cell_type": "code",
   "execution_count": 2,
   "metadata": {},
   "outputs": [],
   "source": [
    "from SupervisedClustering.models import FastKmedoidsEstimator"
   ]
  },
  {
   "cell_type": "code",
   "execution_count": 3,
   "metadata": {},
   "outputs": [
    {
     "data": {
      "text/plain": [
       "SupervisedClustering.models.FastKmedoidsEstimator"
      ]
     },
     "execution_count": 3,
     "metadata": {},
     "output_type": "execute_result"
    }
   ],
   "source": [
    "FastKmedoidsEstimator"
   ]
  }
 ],
 "metadata": {
  "kernelspec": {
   "display_name": "Python 3",
   "language": "python",
   "name": "python3"
  },
  "language_info": {
   "codemirror_mode": {
    "name": "ipython",
    "version": 3
   },
   "file_extension": ".py",
   "mimetype": "text/x-python",
   "name": "python",
   "nbconvert_exporter": "python",
   "pygments_lexer": "ipython3",
   "version": "3.11.5"
  }
 },
 "nbformat": 4,
 "nbformat_minor": 2
}
